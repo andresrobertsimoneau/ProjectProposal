{
 "cells": [
  {
   "cell_type": "markdown",
   "id": "12ad59ab",
   "metadata": {},
   "source": [
    "#### Research Question 1 \n",
    "\n",
    "Is there a direct relationship between Canadian province residency and access to healthcare providers?\n",
    "\n",
    "#### Variables & Visuals\n",
    "\n",
    "The input variable will be \"GEO_province\" and the output variable will be \"WELLNESS_primary_healthcare_provider\" as both variables quantify the research question together. Visuals include Contingency Tables and Stacked Bar Charts. Stacked Bar Charts would visualize the proportion of \"Yes\" and \"No\" outputs for each Canadian province. Contingency Tables would visualize relationships between each categorical inputs and each categorical outputs. \n",
    "#### Analytical Framework & Assumptions\n",
    "\n",
    "We will conduct bootstrap sampling to obtain 95% confidence interval. The Fisher's Exact Test on the Contingency Tables will be completed with an alpha significance level of 0.05% to obtain statistical significance. Assumptions include Independent samples, honest self-reporting, random sampling, proportional sampling for each Canadian province.\n",
    "\n",
    "#### Hypothesis & Possible Results\n",
    "Null Hypothesis: There is a direct relationship between province residency and access to healthcare providers\n",
    "\n",
    "Alternative Hypothesis: There is no direct relationship between province residency and access to healthcare providers\n",
    "\n",
    "P-value equal or greater than 0.05: Fail to Reject Null Hypothesis\n",
    "\n",
    "P-value equal or lesser than 0.05: Reject Null Hypothesis\n"
   ]
  },
  {
   "cell_type": "markdown",
   "id": "9273ed9c",
   "metadata": {
    "scrolled": false
   },
   "source": [
    "#### Research Question 2\n",
    "Is there a direct relationship between higher life satisfaction and individuals dating compared to individuals who are single in Canada?\n",
    "#### Variables & Visuals\n",
    "The input variable will be \"DEMO_relationship_status_dating\" and \"DEMO_relationship_status_single\" respectively while the output variable will be \"WELLNESS_life_satisfaction\". This is based upon wanting to compare the life satisfaction output between the inputs of relationship status (single & dating). The visual will include a graph that displays a Violin Plot for each qualitative input category. This is because the quantitative output and its distribution can be more informative of the distribution and spread of the data.  \n",
    "\n",
    "#### Analytical Framework & Assumptions\n",
    "\n",
    "We will conduct bootstrap sampling to obtain 95% confidence interval. A Permutation Test on the data will be completed with an alpha significance level of 0.05% to obtain statistical significance. Assumptions include Independent samples, random sampling, and fixed criteria for life satisfaction.\n",
    "\n",
    "#### Hypothesis & Possible Results\n",
    "Null Hypothesis: There is a direct relationship between higher life satisfaction and having a relationship status of dating compared to single\n",
    "\n",
    "Alternative Hypothesis: There is no direct relationship between higher life satisfaction and having a relationship status of dating compared to single \n",
    "\n",
    "P-value equal or greater than 0.05: Fail to Reject Null Hypothesis\n",
    "\n",
    "P-value equal or lesser than 0.05: Reject Null Hypothesis\n"
   ]
  },
  {
   "cell_type": "markdown",
   "id": "ee5db7d6",
   "metadata": {},
   "source": [
    "#### Research Question 3\n",
    "\n",
    "Is there a direct relationship between higher Canadian household income and higher life satisfaction?\n",
    "\n",
    "#### Variables & Visuals\n",
    "The input variable will be \"DEMO_household_income\" and the output variable will be \"WELLNESS_life_satisfaction as both variables quantify the research question together. The visual will include a graph that displays a Violin Plot for each qualitative input category. This is because the quantitative output and its distribution can be more informative of the distribution and spread of the data.  \n",
    "\n",
    "#### Analytical Framework & Assumptions\n",
    "We will conduct bootstrap sampling to obtain 95% confidence interval. A Permutation Test on the data will be completed with an alpha significance level of 0.05% to obtain statistical significance. Assumptions include Independent samples, random sampling, and fixed criteria for life satisfaction.\n",
    "\n",
    "#### Hypothesis & Possible Results\n",
    "Null Hypothesis: There is a direct relationship between household income & life satisfaction\n",
    "\n",
    "Alternative Hypothesis: There is no direct relationship between household income & life satisfaction\n",
    "\n",
    "P-value equal or greater than 0.05: Fail to Reject Null Hypothesis\n",
    "\n",
    "P-value equal or lesser than 0.05: Reject Null Hypothesis\n"
   ]
  },
  {
   "cell_type": "code",
   "execution_count": null,
   "id": "4c4f3f2a",
   "metadata": {},
   "outputs": [],
   "source": []
  }
 ],
 "metadata": {
  "kernelspec": {
   "display_name": "Python 3 (ipykernel)",
   "language": "python",
   "name": "python3"
  },
  "language_info": {
   "codemirror_mode": {
    "name": "ipython",
    "version": 3
   },
   "file_extension": ".py",
   "mimetype": "text/x-python",
   "name": "python",
   "nbconvert_exporter": "python",
   "pygments_lexer": "ipython3",
   "version": "3.11.6"
  }
 },
 "nbformat": 4,
 "nbformat_minor": 5
}
